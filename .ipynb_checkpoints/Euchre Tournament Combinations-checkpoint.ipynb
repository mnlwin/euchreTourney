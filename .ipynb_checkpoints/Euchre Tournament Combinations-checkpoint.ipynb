{
 "cells": [
  {
   "cell_type": "markdown",
   "metadata": {},
   "source": [
    "# Euchre Tournament Combinations\n",
    "\n",
    "Objective will be for each player to play on a team with every other player.  However, will not be able to play enough games to matchup with all possible opponents, i.e.,opponents will not be the same for all players. In order for matchups to be unbiased for each individual player, must be able to play all combos of teamates vs. opponents."
   ]
  },
  {
   "cell_type": "markdown",
   "metadata": {},
   "source": [
    "### 4-Handed\n",
    "First, determine the number of possible distinct team and matchup combinations, such that each possible team plays all other possible teams.\n",
    "\n",
    "For example, say there are **13 total players**."
   ]
  },
  {
   "cell_type": "markdown",
   "metadata": {},
   "source": [
    "There are $${13\\choose2} = \\frac{13!}{2!(11)!} = \\frac{13\\cdot12}{2} = 78$$\n",
    "\n",
    "i.e., 78 ways to select 2 players from the set of 13 players where order of selection does not matter. "
   ]
  },
  {
   "cell_type": "code",
   "execution_count": null,
   "metadata": {
    "collapsed": true
   },
   "outputs": [],
   "source": []
  },
  {
   "cell_type": "code",
   "execution_count": 47,
   "metadata": {
    "collapsed": false,
    "scrolled": false
   },
   "outputs": [
    {
     "data": {
      "text/plain": [
       "78.0"
      ]
     },
     "execution_count": 47,
     "metadata": {},
     "output_type": "execute_result"
    }
   ],
   "source": [
    "import scipy.misc as sc\n",
    "import math as m\n",
    "\n",
    "sc.comb(13,2)"
   ]
  },
  {
   "cell_type": "markdown",
   "metadata": {},
   "source": [
    "**In other words, there are a total of 78 possible 2 person teams.**\n",
    "\n",
    "\n",
    "\n",
    "For each possible team (of the 78), if we desire they play every other team, there are a\n",
    "total of 78 * 78 = 6084 total possible games with distinct teams.\n",
    "\n",
    "Each game comprises of 2 teams.  With 3 tables of 4-handed euchre, the number of rounds \n",
    "required to play all 6084 games is 6084/3/2 = 507 rounds. \n",
    "\n",
    "**Above calculation overcounts severely. Instead:**\n",
    "\n",
    "For each 78 possible unique teams, if we desire they play every other team, there are a\n",
    "total of 78 * (78 - 11 - 11 -1) =  4290 total possible games with distinct matchups.\n",
    "\n",
    "Each round comprises of 6 unique teams with 3 tables of 4-handed euchre. The number of rounds \n",
    "required to play all 4290 games is 4290/6 = **715 rounds.** \n"
   ]
  },
  {
   "cell_type": "code",
   "execution_count": 48,
   "metadata": {
    "collapsed": false
   },
   "outputs": [
    {
     "name": "stdout",
     "output_type": "stream",
     "text": [
      "Distinct Matchups = 4290\n",
      "Rounds = 715\n"
     ]
    }
   ],
   "source": [
    "distMatchups = 78 * (78 - 11 - 11 - 1)\n",
    "rounds = distMatchups/6\n",
    "print 'Distinct Matchups =', distMatchups\n",
    "print 'Rounds =', distMatchups/6"
   ]
  },
  {
   "cell_type": "markdown",
   "metadata": {},
   "source": [
    "## Note on Euchre Rotation Tables\n",
    "\n",
    "Rotation table pdfs specify one possible set of matchups.  Need to randomly select assignment of players to positions 1-13.\n",
    "\n"
   ]
  },
  {
   "cell_type": "markdown",
   "metadata": {},
   "source": [
    "### Let's try this another way. -- Not correct\n",
    "\n",
    "Again, say there 13 total players. In 4-handed euchre, a single game comprises 4 players or 2 2-person teams. The most number of games that can simultaneously be played with this set of players is 3 (with 12 players, 6 2-person teams).\n",
    "\n",
    "So, instead lets determine how many distinct combinations of 6 2-person teams there are.  The first team will have,\n",
    "\n",
    "$${13 \\choose 2} = 78 $$ possible teams. The second team will have $${11 \\choose 2} = 55$$ possible teams and so on.  Therefore the total number of combinations for 6 teams is\n",
    "$${13 \\choose 2} {11 \\choose 2} {9 \\choose 2} {7 \\choose 2} {5 \\choose 2} {3 \\choose 2} = 97,297,200$$"
   ]
  },
  {
   "cell_type": "code",
   "execution_count": 49,
   "metadata": {
    "collapsed": false
   },
   "outputs": [
    {
     "name": "stdout",
     "output_type": "stream",
     "text": [
      "97297200.0\n"
     ]
    }
   ],
   "source": [
    "total = sc.comb(13,2) * sc.comb(11,2) * sc.comb(9,2) * sc.comb(7,2) * sc.comb(5,2) * sc.comb(3,2)\n",
    "print total"
   ]
  },
  {
   "cell_type": "markdown",
   "metadata": {},
   "source": [
    "The above number is the total number of permutations where order matters.  However, in our case, order does not matter so we have double counted many teams.  There are 6 teams we need to choose for each round, we can divide by $n!$ resulting in a total of $$135,135$$\n",
    "ways to choose 6 teams of two players from 13 total players"
   ]
  },
  {
   "cell_type": "code",
   "execution_count": 53,
   "metadata": {
    "collapsed": false
   },
   "outputs": [
    {
     "data": {
      "text/plain": [
       "720"
      ]
     },
     "execution_count": 53,
     "metadata": {},
     "output_type": "execute_result"
    }
   ],
   "source": [
    "m.factorial(6)"
   ]
  },
  {
   "cell_type": "code",
   "execution_count": 57,
   "metadata": {
    "collapsed": false
   },
   "outputs": [
    {
     "name": "stdout",
     "output_type": "stream",
     "text": [
      "135135.0\n"
     ]
    }
   ],
   "source": [
    "ways = total / m.factorial(6)\n",
    "print ways"
   ]
  },
  {
   "cell_type": "markdown",
   "metadata": {},
   "source": [
    "$$\\frac{{13 \\choose 2} {11 \\choose 2} {9 \\choose 2} {7 \\choose 2} {5 \\choose 2} {3 \\choose 2}}{6!} \\cdot {6 \\choose 2} {4 \\choose 2} \\cdot \\frac{1}{3!} $$"
   ]
  },
  {
   "cell_type": "code",
   "execution_count": 59,
   "metadata": {
    "collapsed": false
   },
   "outputs": [
    {
     "data": {
      "text/plain": [
       "2027025.0"
      ]
     },
     "execution_count": 59,
     "metadata": {},
     "output_type": "execute_result"
    }
   ],
   "source": [
    "ways * sc.comb(6,2) * sc.comb(4,2) / m.factorial(3)"
   ]
  },
  {
   "cell_type": "markdown",
   "metadata": {},
   "source": [
    "## Rounds required to play all possible matchups: 2,027,025"
   ]
  },
  {
   "cell_type": "markdown",
   "metadata": {},
   "source": [
    "### Test Simple Example\n",
    "\n",
    "Say there are 8 players.  So 4 teams, with $${8\\choose2} = 28$$ possible team combinations."
   ]
  },
  {
   "cell_type": "code",
   "execution_count": 52,
   "metadata": {
    "collapsed": false
   },
   "outputs": [
    {
     "data": {
      "text/plain": [
       "28.0"
      ]
     },
     "execution_count": 52,
     "metadata": {},
     "output_type": "execute_result"
    }
   ],
   "source": [
    "sc.comb(8,2)"
   ]
  },
  {
   "cell_type": "markdown",
   "metadata": {},
   "source": [
    "#### All possible unique teams:\n",
    "\n",
    "{1,2} {1,3} {1,4} {1,5} {1,6} {1,7} {1,8} <br/>\n",
    "{2,3} {2,4} {2,5} {2,6} {2,7} {2,8} <br/>\n",
    "{3,4} {4,5} {5,6} {6,7} {7,8} <br/>\n",
    "{4,5} {4,6} {4,7} {4,8} <br/>\n",
    "{5,6} {5,7} {5,8} <br/>\n",
    "{6,7} {6,8} <br/>\n",
    "{7,8}"
   ]
  },
  {
   "cell_type": "code",
   "execution_count": null,
   "metadata": {
    "collapsed": true
   },
   "outputs": [],
   "source": []
  }
 ],
 "metadata": {
  "kernelspec": {
   "display_name": "Python 2",
   "language": "python",
   "name": "python2"
  },
  "language_info": {
   "codemirror_mode": {
    "name": "ipython",
    "version": 2
   },
   "file_extension": ".py",
   "mimetype": "text/x-python",
   "name": "python",
   "nbconvert_exporter": "python",
   "pygments_lexer": "ipython2",
   "version": "2.7.10"
  }
 },
 "nbformat": 4,
 "nbformat_minor": 0
}
