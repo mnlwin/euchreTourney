{
 "cells": [
  {
   "cell_type": "markdown",
   "metadata": {},
   "source": [
    "# Euchre Tournament Combinations"
   ]
  },
  {
   "cell_type": "markdown",
   "metadata": {},
   "source": [
    "### 4-Handed\n",
    "First, determine the number of possible distinct team and matchup combinations, such that each possible team plays all other possible teams.\n",
    "\n",
    "For example, say there are **13 total players**."
   ]
  },
  {
   "cell_type": "markdown",
   "metadata": {},
   "source": [
    "There are $${13\\choose2} = \\frac{13!}{2!(11)!} = \\frac{13\\cdot12}{2} = 78$$\n",
    "\n",
    "i.e., 78 ways to select 2 players from the set of 13 players where order of selection does not matter. "
   ]
  },
  {
   "cell_type": "code",
   "execution_count": 10,
   "metadata": {
    "collapsed": false,
    "scrolled": false
   },
   "outputs": [
    {
     "data": {
      "text/plain": [
       "78.0"
      ]
     },
     "execution_count": 10,
     "metadata": {},
     "output_type": "execute_result"
    }
   ],
   "source": [
    "import scipy.misc as sc\n",
    "sc.comb(13,2)"
   ]
  },
  {
   "cell_type": "markdown",
   "metadata": {},
   "source": [
    "**In other words, there are a total of 78 possible 2 person teams.**\n",
    "\n",
    "\n",
    "\n",
    "For each possible team (of the 78), if we desire they play every other team, there are a\n",
    "total of 78 * 78 = 6084 total possible games with distinct teams.\n",
    "\n",
    "Each game comprises of 2 teams.  With 3 tables of 4-handed euchre, the number of rounds \n",
    "required to play all 6084 games is 6084/3/2 = 507 rounds. -- seems like we are severely overcounting!"
   ]
  },
  {
   "cell_type": "markdown",
   "metadata": {},
   "source": [
    "Let's try this another way.\n",
    "\n",
    "Again, say there 13 total players. In 4-handed euchre, a single game comprises 4 players or 2 2-person teams. The most number of games that can simultaneously be played with this set of players is 3 (with 12 players, 6 2-person teams).\n",
    "\n",
    "So, instead lets determine how many distinct combinations of 6 2-person teams there are.  The first team will have,\n",
    "\n",
    "$$ $$"
   ]
  },
  {
   "cell_type": "code",
   "execution_count": null,
   "metadata": {
    "collapsed": true
   },
   "outputs": [],
   "source": []
  }
 ],
 "metadata": {
  "kernelspec": {
   "display_name": "Python 2",
   "language": "python",
   "name": "python2"
  },
  "language_info": {
   "codemirror_mode": {
    "name": "ipython",
    "version": 2
   },
   "file_extension": ".py",
   "mimetype": "text/x-python",
   "name": "python",
   "nbconvert_exporter": "python",
   "pygments_lexer": "ipython2",
   "version": "2.7.10"
  }
 },
 "nbformat": 4,
 "nbformat_minor": 0
}
